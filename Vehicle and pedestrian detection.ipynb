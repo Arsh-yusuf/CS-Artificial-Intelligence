{
 "cells": [
  {
   "cell_type": "markdown",
   "id": "5f23173c",
   "metadata": {},
   "source": [
    "# Vehicle Detection"
   ]
  },
  {
   "cell_type": "code",
   "execution_count": 8,
   "id": "de7d5b4b",
   "metadata": {},
   "outputs": [],
   "source": [
    "import cv2\n",
    "\n",
    "# Load the pre-trained Haar Cascade Classifier for vehicles\n",
    "vehicle_cascade = cv2.CascadeClassifier(\"C:/Users/ASUS/Downloads/Computer-Vision-Tutorial-master/Computer-Vision-Tutorial-master/Haarcascades/haarcascade_car.xml\")\n",
    "\n",
    "# Load the video file or capture video from a camera\n",
    "cap = cv2.VideoCapture(\"C:/Users/ASUS/Downloads/Computer-Vision-Tutorial-master/Computer-Vision-Tutorial-master/image_examples/cars.avi\")  # Replace with the path to your video file or use camera index (0 for default camera)\n",
    "\n",
    "while True:\n",
    "    # Read a frame from the video\n",
    "    ret, frame = cap.read()\n",
    "\n",
    "    # If the video has ended, break the loop\n",
    "    if not ret:\n",
    "        break\n",
    "\n",
    "    # Convert the frame to grayscale (Haar Cascade works on grayscale images)\n",
    "    gray = cv2.cvtColor(frame, cv2.COLOR_BGR2GRAY)\n",
    "\n",
    "    # Perform vehicle detection\n",
    "    vehicles = vehicle_cascade.detectMultiScale(gray, 1.4,2)\n",
    "\n",
    "    # Draw rectangles around the detected vehicles\n",
    "    for (x, y, w, h) in vehicles:\n",
    "        cv2.rectangle(frame, (x, y), (x+w, y+h), (0, 255, 0), 2)\n",
    "\n",
    "    # Display the result\n",
    "    cv2.imshow('Vehicle Detection', frame)\n",
    "\n",
    "    # Break the loop if 'q' key is pressed\n",
    "    if cv2.waitKey(50) & 0xFF == ord('q'):\n",
    "        break\n",
    "\n",
    "# Release the video capture object and close the window\n",
    "cap.release()\n",
    "cv2.destroyAllWindows()\n"
   ]
  },
  {
   "cell_type": "markdown",
   "id": "9065426b",
   "metadata": {},
   "source": [
    "# "
   ]
  },
  {
   "cell_type": "code",
   "execution_count": 9,
   "id": "88a360e6",
   "metadata": {},
   "outputs": [],
   "source": [
    "import cv2\n",
    "\n",
    "# Load the pre-trained Haar Cascade Classifier for vehicles\n",
    "vehicle_cascade = cv2.CascadeClassifier(\"C:/Users/ASUS/Downloads/Computer-Vision-Tutorial-master/Computer-Vision-Tutorial-master/Haarcascades/haarcascade_fullbody.xml\")\n",
    "\n",
    "# Load the video file or capture video from a camera\n",
    "cap = cv2.VideoCapture(\"C:/Users/ASUS/Downloads/Computer-Vision-Tutorial-master/Computer-Vision-Tutorial-master/image_examples/walking.avi\")  # Replace with the path to your video file or use camera index (0 for default camera)\n",
    "\n",
    "while True:\n",
    "    # Read a frame from the video\n",
    "    ret, frame = cap.read()\n",
    "\n",
    "    # If the video has ended, break the loop\n",
    "    if not ret:\n",
    "        break\n",
    "\n",
    "    # Convert the frame to grayscale (Haar Cascade works on grayscale images)\n",
    "    gray = cv2.cvtColor(frame, cv2.COLOR_BGR2GRAY)\n",
    "\n",
    "    # Perform vehicle detection\n",
    "    vehicles = vehicle_cascade.detectMultiScale(gray, 1.4, 2)\n",
    "\n",
    "    # Draw rectangles around the detected vehicles\n",
    "    for (x, y, w, h) in vehicles:\n",
    "        cv2.rectangle(frame, (x, y), (x+w, y+h), (0, 255, 255), 2)\n",
    "\n",
    "    # Display the result\n",
    "    cv2.imshow('Pedestrian Detection', frame)\n",
    "\n",
    "    # Break the loop if 'q' key is pressed\n",
    "    if cv2.waitKey(50) & 0xFF == ord('q'):\n",
    "        break\n",
    "\n",
    "# Release the video capture object and close the window\n",
    "cap.release()\n",
    "cv2.destroyAllWindows()\n"
   ]
  },
  {
   "cell_type": "code",
   "execution_count": null,
   "id": "27dcc57f",
   "metadata": {},
   "outputs": [],
   "source": []
  }
 ],
 "metadata": {
  "kernelspec": {
   "display_name": "Python 3 (ipykernel)",
   "language": "python",
   "name": "python3"
  },
  "language_info": {
   "codemirror_mode": {
    "name": "ipython",
    "version": 3
   },
   "file_extension": ".py",
   "mimetype": "text/x-python",
   "name": "python",
   "nbconvert_exporter": "python",
   "pygments_lexer": "ipython3",
   "version": "3.9.13"
  }
 },
 "nbformat": 4,
 "nbformat_minor": 5
}
